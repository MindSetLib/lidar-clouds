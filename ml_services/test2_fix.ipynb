{
 "cells": [
  {
   "cell_type": "code",
   "execution_count": 1,
   "id": "3da7d7e0-9909-4209-8c03-00d87838ba58",
   "metadata": {
    "tags": []
   },
   "outputs": [
    {
     "name": "stdout",
     "output_type": "stream",
     "text": [
      "Jupyter environment detected. Enabling Open3D WebVisualizer.\n",
      "[Open3D INFO] WebRTC GUI backend enabled.\n",
      "[Open3D INFO] WebRTCWindowSystem: HTTP handshake server disabled.\n"
     ]
    }
   ],
   "source": [
    "import os\n",
    "import numpy as np\n",
    "import open3d as o3d\n",
    "# import pypcd4\n",
    "from matplotlib import pyplot as plt\n",
    "\n",
    "import plotly.io as pio\n",
    "pio.renderers.default = \"iframe\""
   ]
  },
  {
   "cell_type": "markdown",
   "id": "54a2cd26-b43d-44b3-9ad6-437cc54d05d9",
   "metadata": {},
   "source": [
    "### Загрузка облака"
   ]
  },
  {
   "cell_type": "code",
   "execution_count": 2,
   "id": "e3be58d4-d8df-4fa8-b24b-1501d88edf76",
   "metadata": {
    "tags": []
   },
   "outputs": [],
   "source": [
    "pcd_path = 'data/points.pcd'"
   ]
  },
  {
   "cell_type": "code",
   "execution_count": 3,
   "id": "b5d7da8e-333c-4551-a222-13689a69c700",
   "metadata": {
    "tags": []
   },
   "outputs": [],
   "source": [
    "pcd = o3d.io.read_point_cloud(pcd_path)"
   ]
  },
  {
   "cell_type": "code",
   "execution_count": 12,
   "id": "29800095-91ba-4eee-8a3c-d6acc4e1827f",
   "metadata": {
    "tags": []
   },
   "outputs": [],
   "source": [
    "# pcd.fields"
   ]
  },
  {
   "cell_type": "markdown",
   "id": "292b131c-8ea7-4767-aca6-cac338ac99c1",
   "metadata": {},
   "source": [
    "Интенсивность ноль в исходнике у всех точек, про нее можно забыть"
   ]
  },
  {
   "cell_type": "code",
   "execution_count": 4,
   "id": "a015e1dd-3946-4ec3-b0ba-df903c7b3746",
   "metadata": {
    "tags": []
   },
   "outputs": [
    {
     "data": {
      "text/plain": [
       "(9668627, 3)"
      ]
     },
     "execution_count": 4,
     "metadata": {},
     "output_type": "execute_result"
    }
   ],
   "source": [
    "points = np.asarray(pcd.points)\n",
    "\n",
    "points.shape\n",
    "# (1000, 3)"
   ]
  },
  {
   "cell_type": "code",
   "execution_count": 5,
   "id": "a4f97c30-0736-4cbc-a004-213da8a8eaf5",
   "metadata": {
    "tags": []
   },
   "outputs": [],
   "source": [
    "p_min = points[:, 2].min()"
   ]
  },
  {
   "cell_type": "code",
   "execution_count": 6,
   "id": "c3273da1-6133-4883-a8a0-5ab656cfc85e",
   "metadata": {
    "tags": []
   },
   "outputs": [],
   "source": [
    "# Нормализуем Z (камера на высоте 1.6 метров, минимум Z = 0)\n",
    "points[:, 2] = points[:, 2] - p_min - 1.6"
   ]
  },
  {
   "cell_type": "code",
   "execution_count": 7,
   "id": "7fa373b6-6a63-4919-9789-bdabab0f73d7",
   "metadata": {
    "tags": []
   },
   "outputs": [
    {
     "data": {
      "text/plain": [
       "np.float64(64.798193359375)"
      ]
     },
     "execution_count": 7,
     "metadata": {},
     "output_type": "execute_result"
    }
   ],
   "source": [
    "points[:, 2].max()"
   ]
  },
  {
   "cell_type": "code",
   "execution_count": 8,
   "id": "e865a2b5-60a4-4044-94d3-f897170aae75",
   "metadata": {
    "tags": []
   },
   "outputs": [],
   "source": [
    "# нормализация по Z\n",
    "points[:, 2] -= points[:, 2].min()\n",
    "points[:, 2] -= 1.6   # смещение на высоту камеры ~1.6 м"
   ]
  },
  {
   "cell_type": "code",
   "execution_count": 9,
   "id": "7a06a5c4-8a3b-4bcb-ad39-998c5113d295",
   "metadata": {
    "tags": []
   },
   "outputs": [],
   "source": [
    "from scipy.spatial.distance import cdist\n",
    "import numpy as np\n",
    "\n",
    "# Предположим, что у нас есть точки в XY\n",
    "xy = points[:, :2]  # (N, 2)\n",
    "# center_line\n",
    "# Упорядочиваем точки по направлению движения (по увеличению x или по дистанции)\n",
    "# Можно использовать алгоритм \"greedy path\" или просто сортировать по x\n",
    "sorted_idx = np.argsort(xy[:, 0])  # если дорога идёт слева направо\n",
    "xy_sorted = xy[sorted_idx]\n",
    "\n",
    "# Теперь строим центральную линию — например, медиана по Y на каждом интервале X\n",
    "# Разбиваем на бины по X и берем центр каждого бина\n",
    "bin_size = 50  # пиксели или метры\n",
    "x_bins = np.arange(xy_sorted[:, 0].min(), xy_sorted[:, 0].max(), bin_size)\n",
    "center_line_x = []\n",
    "center_line_y = []\n",
    "\n",
    "for x_bin in x_bins:\n",
    "    mask = (xy_sorted[:, 0] >= x_bin) & (xy_sorted[:, 0] < x_bin + bin_size)\n",
    "    if np.any(mask):\n",
    "        y_med = np.median(xy_sorted[mask, 1])\n",
    "        center_line_x.append(x_bin + bin_size / 2)\n",
    "        center_line_y.append(y_med)\n",
    "\n",
    "center_line = np.column_stack([center_line_x, center_line_y])"
   ]
  },
  {
   "cell_type": "code",
   "execution_count": 19,
   "id": "112ad3a5-a3aa-446a-8081-e9fd00b1315f",
   "metadata": {
    "tags": []
   },
   "outputs": [
    {
     "data": {
      "text/plain": [
       "[<matplotlib.lines.Line2D at 0x7e1d32186fe0>]"
      ]
     },
     "execution_count": 19,
     "metadata": {},
     "output_type": "execute_result"
    },
    {
     "data": {
      "image/png": "[encoded data removed]",
      "text/plain": [
       "<Figure size 640x480 with 1 Axes>"
      ]
     },
     "metadata": {},
     "output_type": "display_data"
    }
   ],
   "source": [
    "plt.plot(center_line[:, 0], center_line[:, 1])"
   ]
  },
  {
   "cell_type": "code",
   "execution_count": 20,
   "id": "a560d8cd-5cc3-476c-813a-4359fa26c235",
   "metadata": {
    "tags": []
   },
   "outputs": [
    {
     "data": {
      "text/plain": [
       "105"
      ]
     },
     "execution_count": 20,
     "metadata": {},
     "output_type": "execute_result"
    }
   ],
   "source": [
    "len(center_line)"
   ]
  },
  {
   "cell_type": "markdown",
   "id": "d5f1779b-cc00-422c-8712-321cf50e55c8",
   "metadata": {
    "tags": []
   },
   "source": [
    "### Режем на кубики вдоль траектории"
   ]
  },
  {
   "cell_type": "code",
   "execution_count": 11,
   "id": "78be4600-ef39-488a-92a2-086ed9936f40",
   "metadata": {
    "tags": []
   },
   "outputs": [],
   "source": [
    "def create_cubes_along_trajectory(points, center_line, cube_side=500, line_step=5, width_offset=150):\n",
    "    cubes = []\n",
    "    half = cube_side / 2.0\n",
    "\n",
    "    for i in range(0, len(center_line) - line_step, line_step):\n",
    "        p1, p2 = center_line[i], center_line[i + line_step]\n",
    "        direction = p2 - p1\n",
    "        direction = direction / np.linalg.norm(direction)\n",
    "        normal = np.array([-direction[1], direction[0]])  # перпендикуляр\n",
    "\n",
    "        center = (p1 + p2) / 2.0\n",
    "        rel_points = points[:, :2] - center\n",
    "\n",
    "        # условие попадания в куб по оси вдоль траектории и по перпендикуляру\n",
    "        mask = (\n",
    "            (np.abs(rel_points @ direction) < half) &\n",
    "            (np.abs(rel_points @ normal) < width_offset)\n",
    "        )\n",
    "        cube = points[mask]\n",
    "        if len(cube) > 0:\n",
    "            cubes.append(cube)\n",
    "\n",
    "    return cubes\n"
   ]
  },
  {
   "cell_type": "code",
   "execution_count": 12,
   "id": "5b089662-6a4b-42af-bdf0-670094d69ae3",
   "metadata": {
    "tags": []
   },
   "outputs": [],
   "source": [
    "cubes = create_cubes_along_trajectory(points, center_line, cube_side=500, line_step=5, width_offset=150)"
   ]
  },
  {
   "cell_type": "code",
   "execution_count": 13,
   "id": "7ff867f7-f954-48c6-858a-1f599246f2ec",
   "metadata": {
    "tags": []
   },
   "outputs": [
    {
     "data": {
      "text/plain": [
       "20"
      ]
     },
     "execution_count": 13,
     "metadata": {},
     "output_type": "execute_result"
    }
   ],
   "source": [
    "len(cubes)"
   ]
  },
  {
   "cell_type": "code",
   "execution_count": 14,
   "id": "f270b126-9e55-4c2a-93aa-42addb34d649",
   "metadata": {
    "tags": []
   },
   "outputs": [
    {
     "data": {
      "text/plain": [
       "(376016, 3)"
      ]
     },
     "execution_count": 14,
     "metadata": {},
     "output_type": "execute_result"
    }
   ],
   "source": [
    "cubes[1].shape"
   ]
  },
  {
   "cell_type": "code",
   "execution_count": 25,
   "id": "56305a7f-35d5-441d-966a-b89849de5bec",
   "metadata": {
    "tags": []
   },
   "outputs": [],
   "source": [
    "import os\n",
    "\n",
    "os.makedirs(\"data/cubes2\", exist_ok=True)"
   ]
  },
  {
   "cell_type": "code",
   "execution_count": 26,
   "id": "0b77e2a2-6cf4-4c5f-997f-c8103c3ecc14",
   "metadata": {
    "tags": []
   },
   "outputs": [],
   "source": [
    "for i, cube in enumerate(cubes):\n",
    "    np.save(f\"data/cubes2/{i}.npy\", cube)\n",
    "    cube_pcd = o3d.geometry.PointCloud()\n",
    "    cube_pcd.points = o3d.utility.Vector3dVector(cube[:, :3])\n",
    "    o3d.io.write_point_cloud(f\"data/cubes2/{i}.pcd\", cube_pcd)"
   ]
  },
  {
   "cell_type": "markdown",
   "id": "f70cf13f-cb46-4bb5-958b-b6fc1ac377b8",
   "metadata": {},
   "source": [
    "### Сохранение одного кубика и визуализация для OpenPCDet"
   ]
  },
  {
   "cell_type": "code",
   "execution_count": 28,
   "id": "45a625b3-c677-4bcf-aaa5-e712d0a81712",
   "metadata": {
    "tags": []
   },
   "outputs": [],
   "source": [
    "np_path = 'data/points.npy'\n",
    "\n",
    "np.save(np_path, points) "
   ]
  },
  {
   "cell_type": "code",
   "execution_count": 15,
   "id": "611a6c91-0301-4dd3-9d87-92d89d04c498",
   "metadata": {
    "tags": []
   },
   "outputs": [],
   "source": [
    "pcd = o3d.io.read_point_cloud(pcd_path)\n",
    "pcd.points = o3d.utility.Vector3dVector(cubes[0][:, :3])"
   ]
  },
  {
   "cell_type": "code",
   "execution_count": 16,
   "id": "0ec79126-2f70-4be0-8c36-6e63dd10ba66",
   "metadata": {
    "tags": []
   },
   "outputs": [
    {
     "data": {
      "text/html": [
       "<iframe\n",
       "    scrolling=\"no\"\n",
       "    width=\"620px\"\n",
       "    height=\"420\"\n",
       "    src=\"iframe_figures/figure_16.html\"\n",
       "    frameborder=\"0\"\n",
       "    allowfullscreen\n",
       "></iframe>\n"
      ]
     },
     "metadata": {},
     "output_type": "display_data"
    }
   ],
   "source": [
    "def draw_pcd(points, voxel_size=5.0):\n",
    "    pcd = o3d.geometry.PointCloud()\n",
    "    pcd.points = o3d.utility.Vector3dVector(points[:, :3])\n",
    "    pcd_down = pcd.voxel_down_sample(voxel_size=voxel_size)\n",
    "    o3d.visualization.draw_plotly([pcd_down])\n",
    "\n",
    "# пример: первый кубик\n",
    "draw_pcd(cubes[0])"
   ]
  },
  {
   "cell_type": "code",
   "execution_count": 8,
   "id": "f05a1761-6ed4-4e76-82de-dacde7797082",
   "metadata": {
    "tags": []
   },
   "outputs": [],
   "source": [
    "points = np.asarray(pcd.points, dtype=np.float32)"
   ]
  },
  {
   "cell_type": "markdown",
   "id": "b89d0a7a-7bf7-41dc-9e5d-d8746575d111",
   "metadata": {},
   "source": [
    "### Сохранение для OpenPCDet (демо-инференс)"
   ]
  },
  {
   "cell_type": "code",
   "execution_count": 17,
   "id": "4b4ce6d0-8f56-41b1-8f9d-6b5b7e7db690",
   "metadata": {
    "tags": []
   },
   "outputs": [
    {
     "name": "stdout",
     "output_type": "stream",
     "text": [
      "Сохранено 20 сэмплов в data/opencdet_cubes/testing/velodyne\n",
      "Список id записан в data/opencdet_cubes/ImageSets/test.txt\n"
     ]
    }
   ],
   "source": [
    "import os\n",
    "import numpy as np\n",
    "import open3d as o3d\n",
    "\n",
    "# === Параметры ===\n",
    "DATASET_ROOT = \"data/opencdet_cubes\"        # корень датасета\n",
    "SPLIT = \"testing\"                           # под демо удобно сделать testing\n",
    "VEL_DIR = os.path.join(DATASET_ROOT, SPLIT, \"velodyne\")\n",
    "IMGSETS = os.path.join(DATASET_ROOT, \"ImageSets\")\n",
    "SAVE_NPY = True                             # сохранить параллельно .npy\n",
    "\n",
    "os.makedirs(VEL_DIR, exist_ok=True)\n",
    "os.makedirs(IMGSETS, exist_ok=True)\n",
    "\n",
    "def to_kitti_bin(points_xyz_any) -> bytes:\n",
    "    \"\"\"\n",
    "    Принимает массив (N,>=3) и возвращает bytes для KITTI .bin\n",
    "    Формат: float32 [x, y, z, intensity]\n",
    "    Если интенсивности нет — ставим 1.0 (или 0.0 по желанию).\n",
    "    \"\"\"\n",
    "    pts = np.asarray(points_xyz_any, dtype=np.float32)\n",
    "    if pts.shape[1] < 3:\n",
    "        raise ValueError(\"points must have at least 3 columns (x,y,z)\")\n",
    "    xyz = pts[:, :3].astype(np.float32)\n",
    "\n",
    "    if pts.shape[1] >= 4:\n",
    "        intensity = pts[:, 3:4].astype(np.float32)\n",
    "    else:\n",
    "        intensity = np.ones((pts.shape[0], 1), dtype=np.float32)  # можно заменить на zeros\n",
    "\n",
    "    xyzi = np.concatenate([xyz, intensity], axis=1)  # (N,4)\n",
    "    return xyzi.astype(np.float32).tobytes()\n",
    "\n",
    "# === Сохранение всех кубиков ===\n",
    "id_list = []\n",
    "for i, cube in enumerate(cubes):\n",
    "    base = f\"{i:06d}\"\n",
    "    bin_path = os.path.join(VEL_DIR, base + \".bin\")\n",
    "    npy_path = os.path.join(VEL_DIR, base + \".npy\")\n",
    "\n",
    "    # .bin (KITTI-style)\n",
    "    with open(bin_path, \"wb\") as f:\n",
    "        f.write(to_kitti_bin(cube))\n",
    "\n",
    "    # .npy (на всякий случай/отладка)\n",
    "    if SAVE_NPY:\n",
    "        np.save(npy_path, cube)\n",
    "\n",
    "    id_list.append(base)\n",
    "\n",
    "# ImageSets/test.txt\n",
    "with open(os.path.join(IMGSETS, \"test.txt\"), \"w\") as f:\n",
    "    for bid in id_list:\n",
    "        f.write(bid + \"\\n\")\n",
    "\n",
    "print(f\"Сохранено {len(id_list)} сэмплов в {VEL_DIR}\")\n",
    "print(f\"Список id записан в {os.path.join(IMGSETS, 'test.txt')}\")\n"
   ]
  },
  {
   "cell_type": "markdown",
   "id": "1385c4be-da9f-43b3-a068-d933c60085f1",
   "metadata": {},
   "source": [
    "Визуализация любого сохранённого сэмпла"
   ]
  },
  {
   "cell_type": "code",
   "execution_count": 18,
   "id": "bd1c8ba7-5167-4cf6-82a8-e9daaef38829",
   "metadata": {
    "tags": []
   },
   "outputs": [
    {
     "data": {
      "text/html": [
       "<iframe\n",
       "    scrolling=\"no\"\n",
       "    width=\"620px\"\n",
       "    height=\"420\"\n",
       "    src=\"iframe_figures/figure_18.html\"\n",
       "    frameborder=\"0\"\n",
       "    allowfullscreen\n",
       "></iframe>\n"
      ]
     },
     "metadata": {},
     "output_type": "display_data"
    }
   ],
   "source": [
    "def load_kitti_bin(path_bin: str) -> np.ndarray:\n",
    "    raw = np.fromfile(path_bin, dtype=np.float32)\n",
    "    pts = raw.reshape(-1, 4)  # x,y,z,intensity\n",
    "    return pts\n",
    "\n",
    "def draw_pcd_points(points_xyz, voxel_size=5.0):\n",
    "    pcd = o3d.geometry.PointCloud()\n",
    "    pcd.points = o3d.utility.Vector3dVector(points_xyz[:, :3])\n",
    "    pcd_down = pcd.voxel_down_sample(voxel_size=float(voxel_size))\n",
    "    o3d.visualization.draw_plotly([pcd_down])\n",
    "\n",
    "# пример: показать 0-й сэмпл из velodyne\n",
    "sample_bin = os.path.join(VEL_DIR, f\"{0:06d}.bin\")\n",
    "pts = load_kitti_bin(sample_bin)\n",
    "draw_pcd_points(pts, voxel_size=5.0)\n"
   ]
  },
  {
   "cell_type": "markdown",
   "id": "af046299-12b8-449e-993f-2706c3af886c",
   "metadata": {},
   "source": [
    "### Визуализация боксов"
   ]
  },
  {
   "cell_type": "code",
   "execution_count": 24,
   "id": "b8c3185b-a915-4e36-bd43-a0831d587a96",
   "metadata": {
    "tags": []
   },
   "outputs": [
    {
     "data": {
      "image/png": "[encoded data removed]",
      "text/plain": [
       "<Figure size 800x800 with 1 Axes>"
      ]
     },
     "metadata": {},
     "output_type": "display_data"
    },
    {
     "name": "stdout",
     "output_type": "stream",
     "text": [
      "Saved BEV PNG → data/bev_overlay.png\n"
     ]
    }
   ],
   "source": [
    "# --- ПАРАМЕТРЫ ---\n",
    "pcd_path    = \"data/points.pcd\"                     # исходное облако\n",
    "preds_path  = \"data/opencdet_cubes/merged_preds.npz\" # объединённые предсказания (global)\n",
    "png_out     = \"data/bev_overlay.png\"                # куда сохранить PNG\n",
    "\n",
    "score_thr   = 0.25      # порог для отрисовки боксов\n",
    "max_boxes   = 2000      # ограничение на число боксов для читаемости\n",
    "downsample  = 5         # брать каждую N-ю точку (ускоряет отрисовку), 1 = без даунсэмплинга\n",
    "figsize     = (8, 8)    # размер рисунка\n",
    "point_size  = 0.2       # размер точки на scatter\n",
    "alpha_pts   = 0.5       # прозрачность точек\n",
    "draw_scores = False     # подписывать score у боксов (может загромождать)\n",
    "\n",
    "# --- КОД ---\n",
    "import numpy as np\n",
    "import open3d as o3d\n",
    "import matplotlib.pyplot as plt\n",
    "from matplotlib.patches import Polygon\n",
    "\n",
    "def bev_corners_xy(boxes_xyzlwh_yaw: np.ndarray) -> np.ndarray:\n",
    "    \"\"\"\n",
    "    boxes: [N,7] -> (x,y,z, dx,dy,dz, yaw)\n",
    "    return: XY-углы в порядке (4,2) на каждый бокс -> [N,4,2]\n",
    "    \"\"\"\n",
    "    c = np.cos(boxes_xyzlwh_yaw[:, 6])\n",
    "    s = np.sin(boxes_xyzlwh_yaw[:, 6])\n",
    "    R = np.stack([np.stack([c, -s], axis=1),\n",
    "                  np.stack([s,  c], axis=1)], axis=1)        # [N,2,2]\n",
    "\n",
    "    dx = boxes_xyzlwh_yaw[:, 3] / 2.0\n",
    "    dy = boxes_xyzlwh_yaw[:, 4] / 2.0\n",
    "\n",
    "    # локальные углы прямоугольника в порядке: (-,-), (+,-), (+,+), (-,+)\n",
    "    templ = np.stack([\n",
    "        np.stack([-dx, -dy], axis=1),\n",
    "        np.stack([+dx, -dy], axis=1),\n",
    "        np.stack([+dx, +dy], axis=1),\n",
    "        np.stack([-dx, +dy], axis=1),\n",
    "    ], axis=1)                                             # [N,4,2]\n",
    "\n",
    "    # поворот + перенос\n",
    "    rot = templ @ np.transpose(R, (0,2,1))                 # [N,4,2]\n",
    "    rot[:,:,0] += boxes_xyzlwh_yaw[:, 0][:, None]          # x0\n",
    "    rot[:,:,1] += boxes_xyzlwh_yaw[:, 1][:, None]          # y0\n",
    "    return rot\n",
    "\n",
    "# 1) читаем данные\n",
    "pcd = o3d.io.read_point_cloud(pcd_path)\n",
    "pts = np.asarray(pcd.points, dtype=np.float32)\n",
    "if len(pts) == 0:\n",
    "    raise RuntimeError(\"PCD пустой.\")\n",
    "\n",
    "preds = np.load(preds_path, allow_pickle=True)\n",
    "boxes  = preds[\"boxes\"]    # ожидаем [M,7] в глобальных координатах\n",
    "scores = preds[\"scores\"] if \"scores\" in preds else np.ones(len(boxes), np.float32)\n",
    "labels = preds[\"labels\"] if \"labels\" in preds else np.zeros(len(boxes), np.int32)\n",
    "\n",
    "# 2) фильтруем\n",
    "mask = scores >= score_thr\n",
    "boxes, scores, labels = boxes[mask], scores[mask], labels[mask]\n",
    "\n",
    "if len(boxes) > max_boxes:\n",
    "    order = np.argsort(-scores)[:max_boxes]\n",
    "    boxes, scores, labels = boxes[order], scores[order], labels[order]\n",
    "\n",
    "# 3) BEV-проекции\n",
    "corners = bev_corners_xy(boxes)  # [M,4,2]\n",
    "\n",
    "# 4) отрисовка\n",
    "plt.figure(figsize=figsize)\n",
    "pts_xy = pts[::downsample, :2] if downsample > 1 else pts[:, :2]\n",
    "plt.scatter(pts_xy[:,0], pts_xy[:,1], s=point_size, alpha=alpha_pts)\n",
    "\n",
    "ax = plt.gca()\n",
    "for i, cs in enumerate(corners):\n",
    "    poly = Polygon(cs, closed=True, fill=False, linewidth=0.8)\n",
    "    ax.add_patch(poly)\n",
    "    if draw_scores:\n",
    "        cx, cy = boxes[i, 0], boxes[i, 1]\n",
    "        ax.text(cx, cy, f\"{scores[i]:.2f}\", fontsize=6)\n",
    "\n",
    "ax.set_aspect(\"equal\", adjustable=\"box\")\n",
    "plt.xlabel(\"X [m]\"); plt.ylabel(\"Y [m]\")\n",
    "plt.title(\"BEV overlay: points + predicted boxes\")\n",
    "\n",
    "# подгоним границы под точки (с небольшим паддингом)\n",
    "x_min, y_min = pts_xy.min(axis=0)\n",
    "x_max, y_max = pts_xy.max(axis=0)\n",
    "pad = 3.0\n",
    "plt.xlim(x_min - pad, x_max + pad)\n",
    "plt.ylim(y_min - pad, y_max + pad)\n",
    "\n",
    "plt.tight_layout()\n",
    "plt.savefig(png_out, dpi=200)\n",
    "plt.show()\n",
    "\n",
    "print(f\"Saved BEV PNG → {png_out}\")\n"
   ]
  },
  {
   "cell_type": "code",
   "execution_count": null,
   "id": "6a64d94c-a642-4fbd-a420-eb64d7c70252",
   "metadata": {},
   "outputs": [],
   "source": []
  }
 ],
 "metadata": {
  "kernelspec": {
   "display_name": "Python (lidar-clouds)",
   "language": "python",
   "name": "lidar-clouds"
  },
  "language_info": {
   "codemirror_mode": {
    "name": "ipython",
    "version": 3
   },
   "file_extension": ".py",
   "mimetype": "text/x-python",
   "name": "python",
   "nbconvert_exporter": "python",
   "pygments_lexer": "ipython3",
   "version": "3.10.13"
  }
 },
 "nbformat": 4,
 "nbformat_minor": 5
}

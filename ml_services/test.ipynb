{
 "cells": [
  {
   "cell_type": "code",
   "execution_count": 39,
   "id": "3da7d7e0-9909-4209-8c03-00d87838ba58",
   "metadata": {
    "tags": []
   },
   "outputs": [],
   "source": [
    "import os\n",
    "import numpy as np\n",
    "import open3d as o3d\n",
    "import pypcd4\n",
    "\n",
    "import plotly.io as pio\n",
    "pio.renderers.default = \"iframe\""
   ]
  },
  {
   "cell_type": "code",
   "execution_count": 2,
   "id": "e3be58d4-d8df-4fa8-b24b-1501d88edf76",
   "metadata": {
    "tags": []
   },
   "outputs": [],
   "source": [
    "pcd_path = 'data/points.pcd'"
   ]
  },
  {
   "cell_type": "code",
   "execution_count": 40,
   "id": "b5d7da8e-333c-4551-a222-13689a69c700",
   "metadata": {
    "tags": []
   },
   "outputs": [],
   "source": [
    "pc = pypcd4.PointCloud.from_path(pcd_path)"
   ]
  },
  {
   "cell_type": "code",
   "execution_count": 42,
   "id": "29800095-91ba-4eee-8a3c-d6acc4e1827f",
   "metadata": {
    "tags": []
   },
   "outputs": [
    {
     "data": {
      "text/plain": [
       "('x', 'y', 'z', 'intensity')"
      ]
     },
     "execution_count": 42,
     "metadata": {},
     "output_type": "execute_result"
    }
   ],
   "source": [
    "pc.fields"
   ]
  },
  {
   "cell_type": "code",
   "execution_count": 45,
   "id": "a015e1dd-3946-4ec3-b0ba-df903c7b3746",
   "metadata": {
    "tags": []
   },
   "outputs": [
    {
     "data": {
      "text/plain": [
       "(9668627, 4)"
      ]
     },
     "execution_count": 45,
     "metadata": {},
     "output_type": "execute_result"
    }
   ],
   "source": [
    "pcd_np = pc.numpy()\n",
    "\n",
    "pcd_np.shape\n",
    "# (1000, 3)"
   ]
  },
  {
   "cell_type": "code",
   "execution_count": 46,
   "id": "5520d132-3ca5-4ee4-a62a-9b0148615848",
   "metadata": {
    "tags": []
   },
   "outputs": [
    {
     "data": {
      "text/plain": [
       "np.float32(140.01575)"
      ]
     },
     "execution_count": 46,
     "metadata": {},
     "output_type": "execute_result"
    }
   ],
   "source": [
    "pcd_np[:, 2].min()"
   ]
  },
  {
   "cell_type": "code",
   "execution_count": 49,
   "id": "1d8d3911-4612-4ac2-a01e-3543110a5936",
   "metadata": {
    "tags": []
   },
   "outputs": [
    {
     "data": {
      "text/plain": [
       "array([0., 0., 0., 0., 0., 0., 0., 0., 0., 0., 0., 0., 0., 0., 0., 0., 0.,\n",
       "       0., 0., 0., 0., 0., 0., 0., 0., 0., 0., 0., 0., 0., 0., 0., 0., 0.,\n",
       "       0., 0., 0., 0., 0., 0., 0., 0., 0., 0., 0., 0., 0., 0., 0., 0., 0.,\n",
       "       0., 0., 0., 0., 0., 0., 0., 0., 0., 0., 0., 0., 0., 0., 0., 0., 0.,\n",
       "       0., 0., 0., 0., 0., 0., 0., 0., 0., 0., 0., 0., 0., 0., 0., 0., 0.,\n",
       "       0., 0., 0., 0., 0., 0., 0., 0., 0., 0., 0., 0., 0., 0., 0.],\n",
       "      dtype=float32)"
      ]
     },
     "execution_count": 49,
     "metadata": {},
     "output_type": "execute_result"
    }
   ],
   "source": [
    "pcd_np[:100, 3]"
   ]
  },
  {
   "cell_type": "code",
   "execution_count": 50,
   "id": "36741629-f21b-4005-af07-4e41c9caba37",
   "metadata": {
    "tags": []
   },
   "outputs": [],
   "source": [
    "np_path = 'data/points.npy'"
   ]
  },
  {
   "cell_type": "code",
   "execution_count": 51,
   "id": "a8bf3cfb-62d0-4165-b959-ebdecd814157",
   "metadata": {
    "tags": []
   },
   "outputs": [],
   "source": [
    "np.save(np_path, points) "
   ]
  },
  {
   "cell_type": "code",
   "execution_count": 55,
   "id": "0f8d5c6a-a266-4be8-ac4c-9dfdf1a31f4f",
   "metadata": {
    "tags": []
   },
   "outputs": [],
   "source": [
    "def filter_points_in_cube(points, cube_half_size=15.0):\n",
    "    \"\"\"\n",
    "    Фильтрует точки, оставляя только те, что находятся внутри куба\n",
    "    с центром в (0,0,0) и половинным размером cube_half_size (в метрах).\n",
    "    \n",
    "    Аргументы:\n",
    "        points: np.ndarray, форма (N, 3) или (N, 4) — [x, y, z, ...]\n",
    "        cube_half_size: float — половина длины ребра куба (по умолчанию 15.0 м → куб 30x30x30 м)\n",
    "    \n",
    "    Возвращает:\n",
    "        filtered_points: np.ndarray — отфильтрованный массив тех же столбцов, что и на входе\n",
    "    \"\"\"\n",
    "    # Берём первые 3 столбца — координаты x, y, z\n",
    "    xyz = points[:, :3]\n",
    "    \n",
    "    # Создаём маску: True для точек внутри куба\n",
    "    mask = (\n",
    "        (xyz[:, 0] >= -cube_half_size) & (xyz[:, 0] <= cube_half_size) &\n",
    "        (xyz[:, 1] >= -cube_half_size) & (xyz[:, 1] <= cube_half_size) &\n",
    "        (xyz[:, 2] >= -cube_half_size) & (xyz[:, 2] <= cube_half_size)\n",
    "    )\n",
    "    \n",
    "    # Применяем маску ко всему массиву (включая интенсивность, если есть)\n",
    "    filtered_points = points[mask]\n",
    "    \n",
    "    print(f\"📊 Было точек: {len(points)}\")\n",
    "    print(f\"✅ Осталось точек: {len(filtered_points)}\")\n",
    "    \n",
    "    return filtered_points"
   ]
  },
  {
   "cell_type": "code",
   "execution_count": 56,
   "id": "ca65f693-3c3e-4400-863d-5341503a8f4b",
   "metadata": {
    "tags": []
   },
   "outputs": [
    {
     "name": "stdout",
     "output_type": "stream",
     "text": [
      "📊 Было точек: 9668627\n",
      "✅ Осталось точек: 0\n"
     ]
    }
   ],
   "source": [
    "cube_points = filter_points_in_cube(points, cube_half_size=3000.0)"
   ]
  },
  {
   "cell_type": "markdown",
   "id": "e3ea6f79-7728-4e0b-90fb-dc07b3c7c1a0",
   "metadata": {},
   "source": [
    "Не извлекает, нужно понять, как вытащить \"кубик\""
   ]
  },
  {
   "cell_type": "code",
   "execution_count": 52,
   "id": "611a6c91-0301-4dd3-9d87-92d89d04c498",
   "metadata": {
    "tags": []
   },
   "outputs": [],
   "source": [
    "pcd = o3d.geometry.PointCloud()\n",
    "pcd.points = o3d.utility.Vector3dVector(points)"
   ]
  },
  {
   "cell_type": "code",
   "execution_count": null,
   "id": "45535233-6668-4da2-be9e-74271952797f",
   "metadata": {},
   "outputs": [],
   "source": []
  },
  {
   "cell_type": "code",
   "execution_count": null,
   "id": "5bda3302-3d71-455f-825a-917b08bc12cb",
   "metadata": {},
   "outputs": [],
   "source": [
    "pcd = "
   ]
  },
  {
   "cell_type": "code",
   "execution_count": 53,
   "id": "25e6c4dc-b3d0-4c1f-baed-c1728aca8383",
   "metadata": {
    "tags": []
   },
   "outputs": [],
   "source": [
    "def draw_pcd(pcd, voxel_size=5.0):\n",
    "    pcd_down = pcd.voxel_down_sample(voxel_size=voxel_size)\n",
    "    pcd_down.paint_uniform_color([1, 0, 0])\n",
    "    o3d.visualization.draw_plotly([pcd_down])\n",
    "    # return pcd_down    "
   ]
  },
  {
   "cell_type": "code",
   "execution_count": 54,
   "id": "0ec79126-2f70-4be0-8c36-6e63dd10ba66",
   "metadata": {
    "tags": []
   },
   "outputs": [
    {
     "data": {
      "text/html": [
       "<iframe\n",
       "    scrolling=\"no\"\n",
       "    width=\"620px\"\n",
       "    height=\"420\"\n",
       "    src=\"iframe_figures/figure_54.html\"\n",
       "    frameborder=\"0\"\n",
       "    allowfullscreen\n",
       "></iframe>\n"
      ]
     },
     "metadata": {},
     "output_type": "display_data"
    }
   ],
   "source": [
    "draw_pcd(pcd)"
   ]
  },
  {
   "cell_type": "code",
   "execution_count": 8,
   "id": "f05a1761-6ed4-4e76-82de-dacde7797082",
   "metadata": {
    "tags": []
   },
   "outputs": [],
   "source": [
    "points = np.asarray(pcd.points, dtype=np.float32)"
   ]
  },
  {
   "cell_type": "code",
   "execution_count": 10,
   "id": "92733690-23cc-4cb1-91c2-34444dddb7eb",
   "metadata": {
    "tags": []
   },
   "outputs": [
    {
     "data": {
      "text/plain": [
       "(9668627, 3)"
      ]
     },
     "execution_count": 10,
     "metadata": {},
     "output_type": "execute_result"
    }
   ],
   "source": [
    "points.shape"
   ]
  },
  {
   "cell_type": "code",
   "execution_count": 19,
   "id": "2e672044-86bb-4484-b6be-057d572c799c",
   "metadata": {
    "tags": []
   },
   "outputs": [
    {
     "data": {
      "text/plain": [
       "np.float32(140.01575)"
      ]
     },
     "execution_count": 19,
     "metadata": {},
     "output_type": "execute_result"
    }
   ],
   "source": [
    "points[:, 2].min()"
   ]
  },
  {
   "cell_type": "code",
   "execution_count": 16,
   "id": "7ff11875-33e7-4ee9-9c84-4a851cbb04d4",
   "metadata": {
    "tags": []
   },
   "outputs": [
    {
     "data": {
      "text/plain": [
       "False"
      ]
     },
     "execution_count": 16,
     "metadata": {},
     "output_type": "execute_result"
    }
   ],
   "source": [
    "pcd.has_colors()"
   ]
  },
  {
   "cell_type": "code",
   "execution_count": 18,
   "id": "ddb97782-0b45-4c6e-a1e1-58cce261c4e1",
   "metadata": {
    "tags": []
   },
   "outputs": [
    {
     "ename": "AttributeError",
     "evalue": "'open3d.cuda.pybind.geometry.PointCloud' object has no attribute 'intensities'",
     "output_type": "error",
     "traceback": [
      "\u001b[0;31m---------------------------------------------------------------------------\u001b[0m",
      "\u001b[0;31mAttributeError\u001b[0m                            Traceback (most recent call last)",
      "Cell \u001b[0;32mIn[18], line 1\u001b[0m\n\u001b[0;32m----> 1\u001b[0m \u001b[43mpcd\u001b[49m\u001b[38;5;241;43m.\u001b[39;49m\u001b[43mintensities\u001b[49m()\n",
      "\u001b[0;31mAttributeError\u001b[0m: 'open3d.cuda.pybind.geometry.PointCloud' object has no attribute 'intensities'"
     ]
    }
   ],
   "source": [
    "pcd.intensities()"
   ]
  },
  {
   "cell_type": "code",
   "execution_count": null,
   "id": "3c9bc6a5-2fe5-477d-9a6f-a3d244efc6e3",
   "metadata": {},
   "outputs": [],
   "source": []
  }
 ],
 "metadata": {
  "kernelspec": {
   "display_name": "openpcdet",
   "language": "python",
   "name": "openpcdet"
  },
  "language_info": {
   "codemirror_mode": {
    "name": "ipython",
    "version": 3
   },
   "file_extension": ".py",
   "mimetype": "text/x-python",
   "name": "python",
   "nbconvert_exporter": "python",
   "pygments_lexer": "ipython3",
   "version": "3.10.13"
  }
 },
 "nbformat": 4,
 "nbformat_minor": 5
}
